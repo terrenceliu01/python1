{
 "cells": [
  {
   "source": [
    "* Write a Python program to convert temperatures to and from celsius, fahrenheit. \n",
    "\n",
    "$$\n",
    "celsius = \\frac 5 9 (fahrenheit - 32)\n",
    "$$\n",
    "\n",
    "$$\n",
    "fahrenheit = \\frac 9 5 celsius + 32\n",
    "$$\n",
    "\n",
    "* Hint: This outline is an almost-complete solution. You only have to replace each ellipsis by an expression. "
   ],
   "cell_type": "markdown",
   "metadata": {}
  },
  {
   "cell_type": "code",
   "execution_count": null,
   "metadata": {},
   "outputs": [],
   "source": [
    "temperature = input(\"Enter the temperature you want to convert: (e.g. 45C, 103F,...) \")\n",
    "unit = temperature[-1]\n",
    "degree = int(temperature[:-1])\n",
    "\n",
    "if ... :\n",
    "  result = int(round((9 * degree) / 5 + 32))\n",
    "  out_unit = \"Fahrenheit\"\n",
    "elif ... :\n",
    "  result = int(round((degree - 32) * 5 / 9))\n",
    "  out_unit = \"Celsius\"\n",
    "else:\n",
    "  print(\"Input proper convention.\")\n",
    "  quit()\n",
    "print(f\"The temperature {temperature} in {out_unit} is {result}{out_unit[0]}.\")"
   ]
  },
  {
   "cell_type": "code",
   "execution_count": null,
   "metadata": {},
   "outputs": [],
   "source": [
    "Enter the temperature you want to convert: (e.g. 45C, 103F,...)  32C\n",
    "Expected output:\n",
    "    The temperature 32C in Fahrenheit is 90F.\n",
    "    \n",
    "Enter the temperature you want to convert: (e.g. 45C, 103F,...)  100F\n",
    "Expected output:\n",
    "    The temperature 100F in Celsius is 38C."
   ]
  }
 ],
 "metadata": {
  "kernelspec": {
   "display_name": "Python 3",
   "language": "python",
   "name": "python3"
  },
  "language_info": {
   "codemirror_mode": {
    "name": "ipython",
    "version": 3
   },
   "file_extension": ".py",
   "mimetype": "text/x-python",
   "name": "python",
   "nbconvert_exporter": "python",
   "pygments_lexer": "ipython3",
   "version": "3.9.1"
  }
 },
 "nbformat": 4,
 "nbformat_minor": 2
}