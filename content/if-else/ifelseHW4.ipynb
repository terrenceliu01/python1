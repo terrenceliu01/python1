{
 "metadata": {
  "language_info": {
   "codemirror_mode": {
    "name": "ipython",
    "version": 3
   },
   "file_extension": ".py",
   "mimetype": "text/x-python",
   "name": "python",
   "nbconvert_exporter": "python",
   "pygments_lexer": "ipython3",
   "version": "3.9.1-final"
  },
  "orig_nbformat": 2,
  "kernelspec": {
   "name": "python3",
   "display_name": "Python 3",
   "language": "python"
  }
 },
 "nbformat": 4,
 "nbformat_minor": 2,
 "cells": [
  {
   "source": [
    "* Write a Python program to convert temperatures to and from celsius, fahrenheit. \n",
    "\n",
    "$$\n",
    "celsius = \\frac 5 9 (fahrenheit - 32)\n",
    "$$\n",
    "\n",
    "$$\n",
    "fahrenheit = \\frac 9 5 celsius + 32\n",
    "$$"
   ],
   "cell_type": "markdown",
   "metadata": {}
  },
  {
   "cell_type": "code",
   "execution_count": 8,
   "metadata": {},
   "outputs": [
    {
     "output_type": "stream",
     "name": "stdout",
     "text": [
      "The temperature 100F in Celsius is 38C.\n"
     ]
    }
   ],
   "source": [
    "temperature = input(\"Enter the temperature you want to convert: (e.g. 45C, 103F,...) \")\n",
    "unit = temperature[-1]\n",
    "degree = int(temperature[:-1])\n",
    "\n",
    "if unit.upper() == \"C\":\n",
    "  result = int(round((9 * degree) / 5 + 32))\n",
    "  o_convention = \"Fahrenheit\"\n",
    "elif unit.upper() == \"F\":\n",
    "  result = int(round((degree - 32) * 5 / 9))\n",
    "  o_convention = \"Celsius\"\n",
    "else:\n",
    "  print(\"Input proper convention.\")\n",
    "  quit()\n",
    "print(f\"The temperature {temperature} in {o_convention} is {result}{o_convention[0]}.\")\n"
   ]
  },
  {
   "cell_type": "code",
   "execution_count": null,
   "metadata": {},
   "outputs": [],
   "source": [
    "Expected result:\n",
    "\n",
    "Enter the temperature you want to convert: (e.g. 45C, 103F,...) 32C\n",
    "The temperature 32C in Fahrenheit is 90F.\n",
    "\n",
    "Enter the temperature you want to convert: (e.g. 45C, 103F,...) 100F\n",
    "The temperature 100F in Celsius is 38C."
   ]
  },
  {
   "cell_type": "code",
   "execution_count": null,
   "metadata": {},
   "outputs": [],
   "source": []
  }
 ]
}