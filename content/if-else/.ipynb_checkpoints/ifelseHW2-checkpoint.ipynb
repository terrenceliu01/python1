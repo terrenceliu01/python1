{
 "cells": [
  {
   "cell_type": "code",
   "execution_count": 2,
   "metadata": {},
   "outputs": [
    {
     "ename": "SyntaxError",
     "evalue": "invalid syntax (<ipython-input-2-af64ede9c4c4>, line 3)",
     "output_type": "error",
     "traceback": [
      "\u001b[1;36m  File \u001b[1;32m\"<ipython-input-2-af64ede9c4c4>\"\u001b[1;36m, line \u001b[1;32m3\u001b[0m\n\u001b[1;33m    $$\u001b[0m\n\u001b[1;37m    ^\u001b[0m\n\u001b[1;31mSyntaxError\u001b[0m\u001b[1;31m:\u001b[0m invalid syntax\n"
     ]
    }
   ],
   "source": [
    "## Write a Python program to convert temperatures to and from celsius, fahrenheit. \n",
    "\n",
    "$$\n",
    "celsius = \\frac 5 9 (fahrenheit - 32)\n",
    "$$\n",
    "\n",
    "$$\n",
    "fahrenheit = \\frac 9 5 celsius + 32\n",
    "$$\n",
    "\n",
    "* Hint: This outline is an almost-complete solution. You only have to replace each ellipsis by an expression. "
   ]
  },
  {
   "cell_type": "code",
   "execution_count": null,
   "metadata": {},
   "outputs": [],
   "source": [
    "temperature = input(\"Enter the temperature you want to convert: (e.g. 45C, 103F,...\")\n",
    "unit = temperature[-1]\n",
    "degree = int(temperature[:-1])\n",
    "\n",
    "if unit.upper() == \"C\":\n",
    "  result = ...\n",
    "  out_unit = \"Fahrenheit\"\n",
    "elif unit.upper() == \"F\":\n",
    "  result = ...\n",
    "  out_unit = \"Celsius\"\n",
    "else:\n",
    "  print(\"Input proper convention.\")\n",
    "  quit()\n",
    "print(f\"The temperature in {out_unit} is {result} degrees.\")\n"
   ]
  },
  {
   "cell_type": "code",
   "execution_count": null,
   "metadata": {},
   "outputs": [],
   "source": [
    "input: 45C\n",
    "Expected output:\n",
    "    The temperature in Fahrenheit is 113 degrees.\n",
    "input: 100F\n",
    "Expected output:\n",
    "    The temperature in Celsius is 38 degrees."
   ]
  }
 ],
 "metadata": {
  "kernelspec": {
   "display_name": "Python 3",
   "language": "python",
   "name": "python3"
  },
  "language_info": {
   "codemirror_mode": {
    "name": "ipython",
    "version": 3
   },
   "file_extension": ".py",
   "mimetype": "text/x-python",
   "name": "python",
   "nbconvert_exporter": "python",
   "pygments_lexer": "ipython3",
   "version": "3.9.1"
  }
 },
 "nbformat": 4,
 "nbformat_minor": 2
}
